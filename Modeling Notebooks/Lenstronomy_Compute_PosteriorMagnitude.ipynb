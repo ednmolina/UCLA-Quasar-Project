{
 "cells": [
  {
   "cell_type": "code",
   "execution_count": 1,
   "metadata": {},
   "outputs": [
    {
     "data": {
      "text/plain": [
       "'0.4.0'"
      ]
     },
     "execution_count": 1,
     "metadata": {},
     "output_type": "execute_result"
    }
   ],
   "source": [
    "import lenstronomy\n",
    "import pkg_resources as pr\n",
    "pr.get_distribution(\"lenstronomy\").version"
   ]
  },
  {
   "cell_type": "code",
   "execution_count": 2,
   "metadata": {},
   "outputs": [],
   "source": [
    "import matplotlib.pyplot as plt\n",
    "import pickle\n",
    "from lenstronomy.Plots.output_plots import LensModelPlot\n",
    "import numpy as np\n",
    "import pandas as pd\n",
    "import scipy.integrate as integrate\n",
    "from lenstronomy.Sampling.parameters import Param\n",
    "# from lenstronomy.Workflow.parameters import Param\n",
    "import time as time\n",
    "import corner\n",
    "import matplotlib.pyplot as plt\n",
    "import seaborn as sns\n",
    "import os\n",
    "import math \n",
    "\n",
    "plt.rcParams['font.family'] = 'serif'\n",
    "plt.rcParams['font.serif'] = 'Helvetica'\n",
    "plt.rcParams['mathtext.rm'] = 'serif'\n",
    "plt.rcParams['mathtext.fontset'] = 'custom'\n",
    "\n",
    "sns.set(style='ticks', context='paper', font='Helvetica', font_scale=1.5)\n",
    "sns.set_style({\"xtick.direction\": \"in\", \"ytick.direction\": \"in\", \"axes.linewidth\": .8, })"
   ]
  },
  {
   "cell_type": "code",
   "execution_count": 3,
   "metadata": {},
   "outputs": [],
   "source": [
    "# Load the config file\n",
    "config_file = pd.read_excel(\"/Users/edenmolina/PycharmProjects/Quasar/Lenstronomy/LenstronomyConfig.xlsx\", sheet_name=\"Master\")\n",
    "Names = config_file['Name']\n",
    "Paths = config_file['Path']\n",
    "RunBool = config_file['RunBool']\n",
    "SourceVisibleBool = config_file['SourceVisble']"
   ]
  },
  {
   "cell_type": "code",
   "execution_count": 4,
   "metadata": {},
   "outputs": [],
   "source": [
    "def getData(Path, LensName, sourcevisiblebool):\n",
    "    \"\"\"\n",
    "    Path: path of the pickle file\n",
    "    LensName: Name of the lenss to be worked with\n",
    "    SourceVisibleBool: Tells which kwargs_constraint pickle to load\n",
    "    \"\"\"\n",
    "    pick_path = Path\n",
    "    \n",
    "    kwargs_model = pickle.load(open(\"%s/kwargs_model_%s.pickle\" % (pick_path, LensName), 'rb'))\n",
    "    kwargs_params = pickle.load(open(\"%s/kwargs_params_out_result_%s.pickle\" % (pick_path, LensName), 'rb'))\n",
    "\n",
    "    # Load the kwargs_constraint based on if the source is visible or not in the image\n",
    "    if sourcevisiblebool == 0:\n",
    "        kwargs_constraints = pickle.load(open(\"%s/kwargs_constraintsSI.pickle\" % (pick_path), 'rb'))\n",
    "\n",
    "    else:\n",
    "        kwargs_constraints = pickle.load(open(\"%s/kwargs_constraintsSV.pickle\" % (pick_path), 'rb'))\n",
    "        \n",
    "    lens_result = pickle.load(open(\"%s/lens_result_%s.pickle\" % (pick_path, LensName), 'rb')) \n",
    "\n",
    "    # Load the Chain and select every nth values because neighboring valuesi n the chain are correlated with eachother\n",
    "    chain = pickle.load(open(\"%s/MCMC_Chain_%s.pickle\" % (pick_path, LensName), 'rb'))\n",
    "\n",
    "    print (\"***THIS IS THE SHAPE OF THE CHAIN INSIDE GET PARAM***\", np.shape(chain))\n",
    "\n",
    "    n = 10\n",
    "    chain = chain[::n]\n",
    "    \n",
    "    param = Param(kwargs_model, kwargs_constraints, \n",
    "                  kwargs_params['lens_model'][2], \n",
    "                  kwargs_params['source_model'][2],\n",
    "                  kwargs_params['lens_light_model'][2],\n",
    "                  kwargs_params['point_source_model'][2],\n",
    "                  kwargs_lens_init=lens_result)\n",
    "\n",
    "    return chain, param"
   ]
  },
  {
   "cell_type": "code",
   "execution_count": 5,
   "metadata": {},
   "outputs": [],
   "source": [
    "def getLensLightResult(chain, param, i):\n",
    "    \"\"\"\n",
    "    chain: the sliced chain containing posterior distribution of parameters\n",
    "    param: lenstornomy object needed for getting the lens_light_result\n",
    "    \n",
    "    \"\"\"\n",
    "    # Need to iterate every column of the chain to get lens_result, source_result...\n",
    "    lens_result, source_result, lens_light_result, ps_result, _ = param.getParams(chain[i])\n",
    " \n",
    "    return lens_light_result"
   ]
  },
  {
   "cell_type": "code",
   "execution_count": 6,
   "metadata": {},
   "outputs": [],
   "source": [
    "def getFlux(Path, LensName, sourcevisiblebool):\n",
    "    \"\"\"\n",
    "    path: path to the pickle file\n",
    "    LensName: name of the lens, used for locating a pickled file\n",
    "    \n",
    "    returns: Calculated Magnitude\n",
    "    \"\"\"\n",
    "    \n",
    "    Chain, param = getData(Path, LensName, sourcevisiblebool)\n",
    "    \n",
    "    # Iterate through each of the walkers steps in the chain\n",
    "    Amplitudes = np.zeros(np.shape(Chain)[0])\n",
    "    for i in range(np.shape(Chain)[0]):\n",
    "        lens_light_result = getLensLightResult(Chain, param, i)\n",
    "        Amplitudes[i] = lens_light_result[0]['amp']\n",
    "    \n",
    "    Calculated_Magnitude = np.empty(len(Chain))\n",
    "\n",
    "    # Calculating the magnitude without performing the Sersic Integeral; gamma values\n",
    "    n = Chain[:,6] # \n",
    "    bn = 1.9992*n - .3271\n",
    "    I = Amplitudes\n",
    "    R = Chain[:,5]\n",
    "    e1 = Chain[:,8]\n",
    "    e2 = Chain[:,9]    \n",
    "    gamma = [ math.gamma(2*i) for i in n]\n",
    "    zero_point = 24.74\n",
    "    \n",
    "    q = np.zeros(len(e1))\n",
    "    for e in range(len(e1)):\n",
    "        q[e] = lenstronomy.Util.param_util.ellipticity2phi_q(e1[e], e2[e])[1]\n",
    "\n",
    "        \n",
    "    # numpy array containing the posterior distribution of magnitudes\n",
    "    Calculated_Magnitude = q * (zero_point - 2.5 * np.log10(2 * np.pi * n * I * R*R * np.exp(bn)*bn**(-2*n) * gamma))\n",
    "\n",
    "    return Calculated_Magnitude"
   ]
  },
  {
   "cell_type": "markdown",
   "metadata": {},
   "source": [
    "# Calculate Magnitudes and Save posterior Distribution as a .txt file"
   ]
  },
  {
   "cell_type": "code",
   "execution_count": 10,
   "metadata": {},
   "outputs": [
    {
     "name": "stdout",
     "output_type": "stream",
     "text": [
      "Skipping J0047 \n",
      "\n",
      "Skipping J0246sel \n",
      "\n",
      "Skipping J0806 \n",
      "\n",
      "Skipping J1001 \n",
      "\n",
      "Skipping J1650 \n",
      "\n",
      "Skipping J2209 \n",
      "\n",
      "Skipping J1206 \n",
      "\n",
      "Working on JU673\n",
      "('***THIS IS THE SHAPE OF THE CHAIN INSIDE GET PARAM***', (91000, 13))\n",
      "It took 28.44 to compute and plot magnitudes\n",
      "Skipping J0048+2505 \n",
      "\n",
      "Skipping J0118+4718 \n",
      "\n",
      "Skipping J0130+4110 \n",
      "\n",
      "Skipping J0252+3420 \n",
      "\n",
      "Skipping J1700+0058 \n",
      "\n",
      "Skipping J2103+1100 \n",
      "\n",
      "Skipping J2209+0045 \n",
      "\n",
      "Skipping J2211+1929 \n",
      "\n",
      "Skipping J2246+3118 \n",
      "\n",
      "Skipping J2257+2349 \n",
      "\n",
      "Skipping J2353-0539 \n",
      "\n",
      "Skipping J2003-2111 \n",
      "\n",
      "Skipping J0235-2433 \n",
      "\n",
      "Skipping J0259-2338 \n",
      "\n",
      "Skipping J0508-2748 \n",
      "\n",
      "Skipping J2213-2652 \n",
      "\n",
      "Skipping J2305+3714 \n",
      "\n",
      "Skipping J0140+4107 \n",
      "\n",
      "Skipping J0245-0557 \n",
      "\n",
      "Skipping J0246-1845 \n",
      "\n",
      "Skipping J0417+3325 \n",
      "\n",
      "Skipping J0446-3102 \n",
      "\n",
      "Skipping J0840+3550 \n",
      "\n",
      "Skipping J0949+4208 \n",
      "\n",
      "Skipping J1012-0307 \n",
      "\n",
      "Skipping S1128+2402 \n",
      "\n"
     ]
    }
   ],
   "source": [
    "for i in range(len(Names)):\n",
    "    if RunBool[i] == 1:\n",
    "        print \"Working on %s\"%Names[i]\n",
    "        t0 = time.time()\n",
    "    \n",
    "        # Get list of calculated magnitudes\n",
    "        Calculated_Magnitude = getFlux(\"/Users/edenmolina/PycharmProjects/Quasar/Lenstronomy\", Names[i], SourceVisibleBool[i])\n",
    "\n",
    "        print \"It took %s to compute and plot magnitudes\"%round(time.time() - t0, 2)\n",
    "        \n",
    "        # Save calculated magnitudes to a file\n",
    "        np.savetxt(\"/Users/edenmolina/PycharmProjects/Quasar/Lenstronomy/Mag_%s.txt\"%Names[i], Calculated_Magnitude)\n",
    "        \n",
    "    else:\n",
    "        print \"Skipping %s\" % Names[i], \"\\n\""
   ]
  },
  {
   "cell_type": "markdown",
   "metadata": {},
   "source": [
    "# Plot posterior distribution of magnitudes and print out\n",
    "    * How many items are in the posterior\n",
    "    * How many of those items above are Nan, Inf, and how many unique items there are"
   ]
  },
  {
   "cell_type": "code",
   "execution_count": 8,
   "metadata": {},
   "outputs": [
    {
     "name": "stdout",
     "output_type": "stream",
     "text": [
      "Working on JU673\n"
     ]
    },
    {
     "name": "stderr",
     "output_type": "stream",
     "text": [
      "/anaconda3/lib/python2.7/site-packages/matplotlib/font_manager.py:1331: UserWarning: findfont: Font family [u'Helvetica'] not found. Falling back to DejaVu Sans\n",
      "  (prop.get_family(), self.defaultFamily[fontext]))\n",
      "/anaconda3/lib/python2.7/site-packages/matplotlib/font_manager.py:1331: UserWarning: findfont: Font family [u'serif'] not found. Falling back to DejaVu Sans\n",
      "  (prop.get_family(), self.defaultFamily[fontext]))\n"
     ]
    },
    {
     "data": {
      "image/png": "[encoded data removed]",
      "text/plain": [
       "<Figure size 720x720 with 1 Axes>"
      ]
     },
     "metadata": {
      "needs_background": "light"
     },
     "output_type": "display_data"
    }
   ],
   "source": [
    "Name, MagnitudeList = list(), list()\n",
    "for i in range(len(Names)):\n",
    "    if RunBool[i] == 1:\n",
    "        print \"Working on %s\"%Names[i]        \n",
    "        \n",
    "        # Load the data\n",
    "        Calculated_Magnitude = np.loadtxt(\"/Users/edenmolina/PycharmProjects/Quasar/Lenstronomy/Mag_%s.txt\"%Names[i])\n",
    "        \n",
    "        # If the calculated magnitdes's arent Nan or Inf if will be plotted\n",
    "        try:\n",
    "            plt.close()\n",
    "            fig, ax = plt.subplots(figsize = (10, 10))\n",
    "            mag_median = np.median(Calculated_Magnitude)\n",
    "            mag_lstd = np.quantile(Calculated_Magnitude, .159)\n",
    "            mag_ustd = np.quantile(Calculated_Magnitude, .841)\n",
    "            \n",
    "            err_min = round(mag_median-mag_lstd, 2)\n",
    "            err_max = round(mag_ustd-mag_median, 2)\n",
    "#             print \"The Magnitude for %s is \"%Names[i], mag_median\n",
    "            ax.hist(Calculated_Magnitude, bins = 50, color = '#A29C9B', histtype='step')\n",
    "            ax.axvline(x=mag_lstd, color = 'k', linestyle= '--', alpha = .5, markersize = .1)\n",
    "            ax.axvline(x=mag_ustd, color = 'k', linestyle= '--', alpha = .5, markersize = .1)\n",
    "            plt.title(\"Distribution of Magnitudes for %s\"%Names[i])\n",
    "            plt.xlabel(r'$\\log_{10}({\\rm (Flux)counts/sec})$')\n",
    "            \n",
    "            # Making a textbox displaying the statistics for calculated magnitude\n",
    "            textstr = '\\n'.join((\n",
    "                r'Magnitude=$%.2f \\pm ^{%s}_{%s}$' % (mag_median, err_min, err_max),))\n",
    "\n",
    "            # these are matplotlib.patch.Patch properties\n",
    "            props = dict(boxstyle='round', facecolor='wheat', alpha=0.5)\n",
    "\n",
    "            # place a text box in upper left in axes coords\n",
    "            ax.text(0.05, 0.95, textstr, transform=ax.transAxes, fontsize=14,\n",
    "                    verticalalignment='top', bbox=props)\n",
    "\n",
    "            plt.savefig(\"/Users/edenmolina/Desktop/FluxPlots/%s.png\" %Names[i])\n",
    "\n",
    "            Name.append(Names[i])\n",
    "            MagnitudeList.append(mag_median)\n",
    "        except:\n",
    "            print \"Either nan or inf magnitude calculated.\"\n",
    "            print \"Shape of Calculated Magnitude Array: \", np.shape(Calculated_Magnitude)[0]\n",
    "            print \"Non-NaN Values Are: \", Calculated_Magnitude[~np.isnan(Calculated_Magnitude)]\n",
    "            print \"\\t\", \"There are this many Non-NaN : \", np.shape(Calculated_Magnitude[~np.isnan(Calculated_Magnitude)])[0]\n",
    "            print \"Number of inf: \", Calculated_Magnitude[np.isinf(Calculated_Magnitude)]\n",
    "            print '\\t', \"There are this many inf : \", np.shape(Calculated_Magnitude[np.isinf(Calculated_Magnitude)])[0]\n",
    "            print \"NaN Values Are: \", Calculated_Magnitude[np.isnan(Calculated_Magnitude)]\n",
    "            print '\\t', \"There are this many NaN : \", np.shape(Calculated_Magnitude[np.isnan(Calculated_Magnitude)])[0]\n",
    "            print (\"The Unique Values are: \"), np.unique(Calculated_Magnitude)\n",
    "            print '\\t', \"The unique values are: \", np.shape(np.unique(Calculated_Magnitude))[0], '\\n'\n",
    "\n",
    "            try:\n",
    "                print \"Calculating values that aren't nan or inf\"\n",
    "                Calculated_Magnitude = Calculated_Magnitude[~np.isnan(Calculated_Magnitude)]\n",
    "                Calculated_Magnitude = Calculated_Magnitude[~np.isinf(Calculated_Magnitude)]\n",
    "                print (\"NON INF NON NAN ARRAY IS NOW\", Calculated_Magnitude)\n",
    "                plt.close()\n",
    "                fig, ax = plt.subplots(figsize = (10, 10))\n",
    "                mag_median = np.median(Calculated_Magnitude)\n",
    "                mag_lstd = np.quantile(Calculated_Magnitude, .159)\n",
    "                mag_ustd = np.quantile(Calculated_Magnitude, .841)\n",
    "\n",
    "                err_min = round(mag_median-mag_lstd, 2)\n",
    "                err_max = round(mag_ustd-mag_median, 2)\n",
    "    #             print \"The Magnitude for %s is \"%Names[i], mag_median\n",
    "                ax.hist(Calculated_Magnitude, bins = 50, color = '#A29C9B', histtype='step')\n",
    "                ax.axvline(x=mag_lstd, color = 'k', linestyle= '--', alpha = .5, markersize = .1)\n",
    "                ax.axvline(x=mag_ustd, color = 'k', linestyle= '--', alpha = .5, markersize = .1)\n",
    "                plt.title(\"Distribution of Magnitudes for %s\"%Names[i])\n",
    "                plt.xlabel(r'$\\log_{10}({\\rm (Flux)counts/sec})$')\n",
    "\n",
    "                # Making a textbox displaying the statistics for calculated magnitude\n",
    "                textstr = '\\n'.join((\n",
    "                    r'Magnitude=$%.2f \\pm ^{%s}_{%s}$' % (mag_median, err_min, err_max),))\n",
    "\n",
    "                # these are matplotlib.patch.Patch properties\n",
    "                props = dict(boxstyle='round', facecolor='wheat', alpha=0.5)\n",
    "\n",
    "                # place a text box in upper left in axes coords\n",
    "                ax.text(0.05, 0.95, textstr, transform=ax.transAxes, fontsize=14,\n",
    "                        verticalalignment='top', bbox=props)\n",
    "\n",
    "                plt.savefig(\"/Users/edenmolina/Desktop/FluxPlots/%s_had_Nan_or_Inf.png\" %Names[i])\n",
    "\n",
    "                Name.append(Names[i])\n",
    "                MagnitudeList.append(mag_median)\n",
    "            except:\n",
    "                print (\"All values were either NaN or Inf\")\n",
    "            \n",
    "    else:\n",
    "        continue\n",
    "#         print \"Skipping %s\" % Names[i], \"\\n\""
   ]
  },
  {
   "cell_type": "markdown",
   "metadata": {},
   "source": [
    "# Summarize Results as a Pandas DF"
   ]
  },
  {
   "cell_type": "code",
   "execution_count": 12,
   "metadata": {},
   "outputs": [],
   "source": [
    "Magnitude_DF = pd.DataFrame({'Name':Name, 'Magnitude':MagnitudeList})"
   ]
  },
  {
   "cell_type": "code",
   "execution_count": 14,
   "metadata": {},
   "outputs": [
    {
     "data": {
      "text/html": [
       "<div>\n",
       "<style scoped>\n",
       "    .dataframe tbody tr th:only-of-type {\n",
       "        vertical-align: middle;\n",
       "    }\n",
       "\n",
       "    .dataframe tbody tr th {\n",
       "        vertical-align: top;\n",
       "    }\n",
       "\n",
       "    .dataframe thead th {\n",
       "        text-align: right;\n",
       "    }\n",
       "</style>\n",
       "<table border=\"1\" class=\"dataframe\">\n",
       "  <thead>\n",
       "    <tr style=\"text-align: right;\">\n",
       "      <th></th>\n",
       "      <th>Name</th>\n",
       "      <th>Magnitude</th>\n",
       "    </tr>\n",
       "  </thead>\n",
       "  <tbody>\n",
       "    <tr>\n",
       "      <th>0</th>\n",
       "      <td>JU673</td>\n",
       "      <td>9.879777</td>\n",
       "    </tr>\n",
       "  </tbody>\n",
       "</table>\n",
       "</div>"
      ],
      "text/plain": [
       "    Name  Magnitude\n",
       "0  JU673   9.879777"
      ]
     },
     "execution_count": 14,
     "metadata": {},
     "output_type": "execute_result"
    }
   ],
   "source": [
    "Magnitude_DF[['Name', 'Magnitude']]"
   ]
  },
  {
   "cell_type": "code",
   "execution_count": null,
   "metadata": {},
   "outputs": [],
   "source": []
  }
 ],
 "metadata": {
  "kernelspec": {
   "display_name": "Python 2",
   "language": "python",
   "name": "python2"
  },
  "language_info": {
   "codemirror_mode": {
    "name": "ipython",
    "version": 2
   },
   "file_extension": ".py",
   "mimetype": "text/x-python",
   "name": "python",
   "nbconvert_exporter": "python",
   "pygments_lexer": "ipython2",
   "version": "2.7.15"
  }
 },
 "nbformat": 4,
 "nbformat_minor": 2
}
